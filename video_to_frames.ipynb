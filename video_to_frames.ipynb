{
  "nbformat": 4,
  "nbformat_minor": 0,
  "metadata": {
    "colab": {
      "provenance": []
    },
    "kernelspec": {
      "name": "python3",
      "display_name": "Python 3"
    },
    "language_info": {
      "name": "python"
    }
  },
  "cells": [
    {
      "cell_type": "code",
      "execution_count": 1,
      "metadata": {
        "colab": {
          "base_uri": "https://localhost:8080/"
        },
        "id": "i9JB75LVEl3Q",
        "outputId": "11818ede-5dc9-4c78-ef41-45fa7d9d8799"
      },
      "outputs": [
        {
          "output_type": "stream",
          "name": "stdout",
          "text": [
            "Total frames in video (calculated): 217\n",
            "Saving every 10th frame.\n",
            "Saved frame 0 to extracted_images/frame_0.jpg\n",
            "Saved frame 10 to extracted_images/frame_10.jpg\n",
            "Saved frame 20 to extracted_images/frame_20.jpg\n",
            "Saved frame 30 to extracted_images/frame_30.jpg\n",
            "Saved frame 40 to extracted_images/frame_40.jpg\n",
            "Saved frame 50 to extracted_images/frame_50.jpg\n",
            "Saved frame 60 to extracted_images/frame_60.jpg\n",
            "Saved frame 70 to extracted_images/frame_70.jpg\n",
            "Saved frame 80 to extracted_images/frame_80.jpg\n",
            "Saved frame 90 to extracted_images/frame_90.jpg\n",
            "Saved frame 100 to extracted_images/frame_100.jpg\n",
            "Saved frame 110 to extracted_images/frame_110.jpg\n",
            "Saved frame 120 to extracted_images/frame_120.jpg\n",
            "Saved frame 130 to extracted_images/frame_130.jpg\n",
            "Saved frame 140 to extracted_images/frame_140.jpg\n",
            "Saved frame 150 to extracted_images/frame_150.jpg\n",
            "Saved frame 160 to extracted_images/frame_160.jpg\n",
            "Saved frame 170 to extracted_images/frame_170.jpg\n",
            "Saved frame 180 to extracted_images/frame_180.jpg\n",
            "Saved frame 190 to extracted_images/frame_190.jpg\n"
          ]
        },
        {
          "output_type": "stream",
          "name": "stderr",
          "text": [
            "WARNING:py.warnings:/usr/local/lib/python3.10/dist-packages/moviepy/video/io/ffmpeg_reader.py:123: UserWarning: Warning: in file try.mp4, 6220800 bytes wanted but 0 bytes read,at frame 216/218, at time 8.64/8.68 sec. Using the last valid frame instead.\n",
            "  warnings.warn(\"Warning: in file %s, \"%(self.filename)+\n",
            "\n"
          ]
        },
        {
          "output_type": "stream",
          "name": "stdout",
          "text": [
            "Saved frame 200 to extracted_images/frame_200.jpg\n",
            "Saved frame 210 to extracted_images/frame_210.jpg\n",
            "Total frames processed: 217\n",
            "Total frames saved: 22\n",
            "Extracted image paths: ['extracted_images/frame_0.jpg', 'extracted_images/frame_10.jpg', 'extracted_images/frame_20.jpg', 'extracted_images/frame_30.jpg', 'extracted_images/frame_40.jpg', 'extracted_images/frame_50.jpg', 'extracted_images/frame_60.jpg', 'extracted_images/frame_70.jpg', 'extracted_images/frame_80.jpg', 'extracted_images/frame_90.jpg', 'extracted_images/frame_100.jpg', 'extracted_images/frame_110.jpg', 'extracted_images/frame_120.jpg', 'extracted_images/frame_130.jpg', 'extracted_images/frame_140.jpg', 'extracted_images/frame_150.jpg', 'extracted_images/frame_160.jpg', 'extracted_images/frame_170.jpg', 'extracted_images/frame_180.jpg', 'extracted_images/frame_190.jpg', 'extracted_images/frame_200.jpg', 'extracted_images/frame_210.jpg']\n"
          ]
        }
      ],
      "source": [
        "from moviepy.editor import VideoFileClip\n",
        "from PIL import Image\n",
        "import os\n",
        "\n",
        "def extract_frames_with_moviepy(video_path, output_dir, gap=10):\n",
        "    \"\"\"\n",
        "    Extracts every 'gap' frame from a video using MoviePy and saves them as images.\n",
        "\n",
        "    Parameters:\n",
        "    - video_path: Path to the video file.\n",
        "    - output_dir: Directory to save the extracted frames.\n",
        "    - gap: Save every 'gap' frame (e.g., frame 0, frame 10, frame 20, etc.).\n",
        "\n",
        "    Returns:\n",
        "    - image_paths: List of file paths for the saved frames.\n",
        "    \"\"\"\n",
        "    if not os.path.exists(output_dir):\n",
        "        os.makedirs(output_dir)\n",
        "\n",
        "    clip = VideoFileClip(video_path)\n",
        "    fps = clip.fps\n",
        "    total_frames = int(clip.fps * clip.duration)\n",
        "    print(f\"Total frames in video (calculated): {total_frames}\")\n",
        "    print(f\"Saving every {gap}th frame.\")\n",
        "\n",
        "    processed_count = 0\n",
        "    saved_count = 0\n",
        "    image_paths = []\n",
        "\n",
        "    for i, frame in enumerate(clip.iter_frames(fps=fps, dtype=\"uint8\")):\n",
        "        processed_count += 1\n",
        "\n",
        "        if i % gap == 0:\n",
        "            image_path = os.path.join(output_dir, f\"frame_{saved_count*10}.jpg\")\n",
        "            Image.fromarray(frame).save(image_path)\n",
        "            image_paths.append(image_path)\n",
        "            saved_count += 1\n",
        "            print(f\"Saved frame {i} to {image_path}\")\n",
        "\n",
        "    print(f\"Total frames processed: {processed_count}\")\n",
        "    print(f\"Total frames saved: {saved_count}\")\n",
        "    return image_paths\n",
        "\n",
        "video_path = \"try.mp4\"\n",
        "output_dir = \"extracted_images\"\n",
        "gap = 10\n",
        "\n",
        "extracted_images = extract_frames_with_moviepy(video_path, output_dir, gap)\n",
        "print(\"Extracted image paths:\", extracted_images)"
      ]
    }
  ]
}